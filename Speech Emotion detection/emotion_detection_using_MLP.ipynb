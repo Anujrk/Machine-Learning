{
 "cells": [
  {
   "cell_type": "code",
   "execution_count": 1,
   "id": "covered-luther",
   "metadata": {},
   "outputs": [],
   "source": [
    "import numpy as np\n",
    "import librosa\n",
    "import glob\n",
    "import os\n",
    "import soundfile\n",
    "from sklearn.model_selection import train_test_split\n",
    "from sklearn.neural_network import MLPClassifier\n",
    "from sklearn.metrics import accuracy_score"
   ]
  },
  {
   "cell_type": "code",
   "execution_count": 2,
   "id": "alert-controversy",
   "metadata": {},
   "outputs": [],
   "source": [
    "emotions = {\n",
    "    \"01\": \"neutral\", \"02\": \"calm\", \"03\": \"sad\", \"04\": \"sad\", \"05\": \"angry\", \"06\": \"fearful\",\n",
    "    \"07\": \"disgust\", \"08\": \"surprised\"\n",
    "}\n",
    "\n",
    "needed_emotions = [\"happy\", \"neutral\", \"sad\", \"angry\"]\n",
    "\n",
    "X = []\n",
    "y = []"
   ]
  },
  {
   "cell_type": "code",
   "execution_count": 3,
   "id": "collect-walnut",
   "metadata": {},
   "outputs": [],
   "source": [
    "def feature_extraction(file):\n",
    "    with soundfile.SoundFile(file) as sf:\n",
    "        try:\n",
    "            X = sf.read(dtype=\"float32\")\n",
    "            samplerate = sf.samplerate\n",
    "            result = np.array([])\n",
    "\n",
    "            mfcc = np.mean(librosa.feature.mfcc(y=X,sr=samplerate,n_mfcc=40).T,axis=0)\n",
    "            result = np.hstack((result, mfcc))\n",
    "            stft = np.abs(librosa.stft(X))\n",
    "            chroma = np.mean(librosa.feature.chroma_stft(S=stft,sr=samplerate).T,axis=0)\n",
    "            result = np.hstack((result, chroma))\n",
    "            contrast = np.mean(librosa.feature.spectral_contrast(S=stft,sr=samplerate).T,axis=0)\n",
    "            result = np.hstack((result, contrast))\n",
    "            mel = np.mean(librosa.feature.melspectrogram(X, sr=samplerate).T, axis=0)\n",
    "            result = np.hstack((result, mel))\n",
    "            tonnetz = np.mean(librosa.feature.tonnetz(y=librosa.effects.harmonic(X), sr=samplerate).T, axis=0)\n",
    "            result = np.hstack((result, tonnetz))\n",
    "        except:\n",
    "            print(file)\n",
    "    return result"
   ]
  },
  {
   "cell_type": "code",
   "execution_count": 4,
   "id": "threaded-blues",
   "metadata": {},
   "outputs": [],
   "source": [
    "for file in glob.glob(\"archive/Actor_*/*.wav\"):\n",
    "    filename = os.path.basename(file)\n",
    "    emotion = emotions[filename.split(\"-\")[2]]\n",
    "    if emotion not in needed_emotions:\n",
    "        continue\n",
    "    features = feature_extraction(file)\n",
    "    X.append(features)\n",
    "    y.append(emotion)"
   ]
  },
  {
   "cell_type": "code",
   "execution_count": 9,
   "id": "civil-angel",
   "metadata": {},
   "outputs": [
    {
     "data": {
      "text/plain": [
       "(671, 193)"
      ]
     },
     "execution_count": 9,
     "metadata": {},
     "output_type": "execute_result"
    }
   ],
   "source": [
    "np.array(X).shape"
   ]
  },
  {
   "cell_type": "code",
   "execution_count": 11,
   "id": "incredible-reaction",
   "metadata": {},
   "outputs": [],
   "source": [
    "X_train,X_test,y_train,y_test = train_test_split(np.array(X),y,test_size = 0.33,random_state = 42)"
   ]
  },
  {
   "cell_type": "code",
   "execution_count": 13,
   "id": "impossible-biotechnology",
   "metadata": {},
   "outputs": [],
   "source": [
    "model = MLPClassifier(alpha=0.01,batch_size=256,epsilon=1e-08,hidden_layer_sizes=(300,),learning_rate='adaptive',max_iter=500)\n"
   ]
  },
  {
   "cell_type": "code",
   "execution_count": 14,
   "id": "heated-chapel",
   "metadata": {},
   "outputs": [
    {
     "data": {
      "text/plain": [
       "MLPClassifier(alpha=0.01, batch_size=256, hidden_layer_sizes=(300,),\n",
       "              learning_rate='adaptive', max_iter=500)"
      ]
     },
     "execution_count": 14,
     "metadata": {},
     "output_type": "execute_result"
    }
   ],
   "source": [
    "model.fit(X_train,y_train)"
   ]
  },
  {
   "cell_type": "code",
   "execution_count": 15,
   "id": "focused-cooling",
   "metadata": {},
   "outputs": [
    {
     "name": "stdout",
     "output_type": "stream",
     "text": [
      "Accuracy: 79.28%\n"
     ]
    }
   ],
   "source": [
    "y_pred = model.predict(X_test)\n",
    "accuracy = accuracy_score(y_true=y_test, y_pred=y_pred)\n",
    "print(\"Accuracy: {:.2f}%\".format(accuracy*100))"
   ]
  },
  {
   "cell_type": "code",
   "execution_count": null,
   "id": "radical-spirit",
   "metadata": {},
   "outputs": [],
   "source": []
  }
 ],
 "metadata": {
  "kernelspec": {
   "display_name": "Python [conda env:bose] *",
   "language": "python",
   "name": "conda-env-bose-py"
  },
  "language_info": {
   "codemirror_mode": {
    "name": "ipython",
    "version": 3
   },
   "file_extension": ".py",
   "mimetype": "text/x-python",
   "name": "python",
   "nbconvert_exporter": "python",
   "pygments_lexer": "ipython3",
   "version": "3.7.10"
  }
 },
 "nbformat": 4,
 "nbformat_minor": 5
}
